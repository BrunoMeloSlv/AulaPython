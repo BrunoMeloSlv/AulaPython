{
 "cells": [
  {
   "cell_type": "code",
   "execution_count": 1,
   "metadata": {},
   "outputs": [
    {
     "name": "stdout",
     "output_type": "stream",
     "text": [
      "E aí, povo\n"
     ]
    }
   ],
   "source": [
    "print(\"E aí, povo\")"
   ]
  },
  {
   "cell_type": "code",
   "execution_count": 5,
   "metadata": {},
   "outputs": [
    {
     "data": {
      "text/html": [
       "<div>\n",
       "<style scoped>\n",
       "    .dataframe tbody tr th:only-of-type {\n",
       "        vertical-align: middle;\n",
       "    }\n",
       "\n",
       "    .dataframe tbody tr th {\n",
       "        vertical-align: top;\n",
       "    }\n",
       "\n",
       "    .dataframe thead th {\n",
       "        text-align: right;\n",
       "    }\n",
       "</style>\n",
       "<table border=\"1\" class=\"dataframe\">\n",
       "  <thead>\n",
       "    <tr style=\"text-align: right;\">\n",
       "      <th></th>\n",
       "      <th>Unnamed: 0</th>\n",
       "      <th>Movie</th>\n",
       "      <th>Year</th>\n",
       "      <th>Genre</th>\n",
       "      <th>RunTime</th>\n",
       "      <th>Rating</th>\n",
       "      <th>Director</th>\n",
       "      <th>Actor</th>\n",
       "      <th>Description</th>\n",
       "      <th>IMDB_Score</th>\n",
       "      <th>Metascore</th>\n",
       "      <th>Votes</th>\n",
       "      <th>USA_Gross</th>\n",
       "      <th>Category</th>\n",
       "    </tr>\n",
       "  </thead>\n",
       "  <tbody>\n",
       "    <tr>\n",
       "      <th>0</th>\n",
       "      <td>0</td>\n",
       "      <td>Eternals</td>\n",
       "      <td>(2021)</td>\n",
       "      <td>Action,Adventure,Drama</td>\n",
       "      <td>NaN</td>\n",
       "      <td>NaN</td>\n",
       "      <td>ChloéZhao</td>\n",
       "      <td>AngelinaJolie,GemmaChan,RichardMadden,BarryKeo...</td>\n",
       "      <td>The saga of the Eternals, a race of immortal b...</td>\n",
       "      <td>NaN</td>\n",
       "      <td>NaN</td>\n",
       "      <td>NaN</td>\n",
       "      <td>NaN</td>\n",
       "      <td>Marvel</td>\n",
       "    </tr>\n",
       "    <tr>\n",
       "      <th>1</th>\n",
       "      <td>1</td>\n",
       "      <td>Loki</td>\n",
       "      <td>(2021– )</td>\n",
       "      <td>Action,Adventure,Fantasy</td>\n",
       "      <td>NaN</td>\n",
       "      <td>NaN</td>\n",
       "      <td>NaN</td>\n",
       "      <td>TomHiddleston,OwenWilson,SophiaDiMartino,Richa...</td>\n",
       "      <td>A new Marvel chapter with Loki at its center.</td>\n",
       "      <td>NaN</td>\n",
       "      <td>NaN</td>\n",
       "      <td>NaN</td>\n",
       "      <td>NaN</td>\n",
       "      <td>Marvel</td>\n",
       "    </tr>\n",
       "    <tr>\n",
       "      <th>2</th>\n",
       "      <td>2</td>\n",
       "      <td>The Falcon and the Winter Soldier</td>\n",
       "      <td>(2021)</td>\n",
       "      <td>Action,Adventure,Drama</td>\n",
       "      <td>50 min</td>\n",
       "      <td>TV-14</td>\n",
       "      <td>NaN</td>\n",
       "      <td>AnthonyMackie,SebastianStan,WyattRussell,ErinK...</td>\n",
       "      <td>Following the events of 'Avengers: Endgame,' S...</td>\n",
       "      <td>7.5</td>\n",
       "      <td>NaN</td>\n",
       "      <td>105,557</td>\n",
       "      <td>NaN</td>\n",
       "      <td>Marvel</td>\n",
       "    </tr>\n",
       "    <tr>\n",
       "      <th>3</th>\n",
       "      <td>3</td>\n",
       "      <td>WandaVision</td>\n",
       "      <td>(2021)</td>\n",
       "      <td>Action,Comedy,Drama</td>\n",
       "      <td>350 min</td>\n",
       "      <td>TV-PG</td>\n",
       "      <td>NaN</td>\n",
       "      <td>ElizabethOlsen,PaulBettany,KathrynHahn,Teyonah...</td>\n",
       "      <td>Blends the style of classic sitcoms with the M...</td>\n",
       "      <td>8.1</td>\n",
       "      <td>NaN</td>\n",
       "      <td>174,710</td>\n",
       "      <td>NaN</td>\n",
       "      <td>Marvel</td>\n",
       "    </tr>\n",
       "    <tr>\n",
       "      <th>4</th>\n",
       "      <td>4</td>\n",
       "      <td>Spider-Man: No Way Home</td>\n",
       "      <td>(2021)</td>\n",
       "      <td>Action,Adventure,Sci-Fi</td>\n",
       "      <td>NaN</td>\n",
       "      <td>NaN</td>\n",
       "      <td>JonWatts</td>\n",
       "      <td>AngourieRice,TomHolland,Zendaya,MarisaTomei</td>\n",
       "      <td>A continuation of Spider-Man: Far From Home.</td>\n",
       "      <td>NaN</td>\n",
       "      <td>NaN</td>\n",
       "      <td>NaN</td>\n",
       "      <td>NaN</td>\n",
       "      <td>Marvel</td>\n",
       "    </tr>\n",
       "    <tr>\n",
       "      <th>...</th>\n",
       "      <td>...</td>\n",
       "      <td>...</td>\n",
       "      <td>...</td>\n",
       "      <td>...</td>\n",
       "      <td>...</td>\n",
       "      <td>...</td>\n",
       "      <td>...</td>\n",
       "      <td>...</td>\n",
       "      <td>...</td>\n",
       "      <td>...</td>\n",
       "      <td>...</td>\n",
       "      <td>...</td>\n",
       "      <td>...</td>\n",
       "      <td>...</td>\n",
       "    </tr>\n",
       "    <tr>\n",
       "      <th>1685</th>\n",
       "      <td>1685</td>\n",
       "      <td>DC's Legends of Tomorrow</td>\n",
       "      <td>(2016– )</td>\n",
       "      <td>Action,Adventure,Drama</td>\n",
       "      <td>42 min</td>\n",
       "      <td>TV-14</td>\n",
       "      <td>GregorySmith</td>\n",
       "      <td>BrandonRouth,CaityLotz,MaisieRichardson-Seller...</td>\n",
       "      <td>Worlds lived, worlds died. Nothing will ever b...</td>\n",
       "      <td>8.5</td>\n",
       "      <td>NaN</td>\n",
       "      <td>2,050</td>\n",
       "      <td>NaN</td>\n",
       "      <td>DC</td>\n",
       "    </tr>\n",
       "    <tr>\n",
       "      <th>1686</th>\n",
       "      <td>1686</td>\n",
       "      <td>Supergirl</td>\n",
       "      <td>(2015–2021)</td>\n",
       "      <td>Action,Adventure,Drama</td>\n",
       "      <td>42 min</td>\n",
       "      <td>TV-PG</td>\n",
       "      <td>CarlSeaton</td>\n",
       "      <td>MelissaBenoist,MehcadBrooks,ChylerLeigh,KatieM...</td>\n",
       "      <td>In the wake of Lex Luthor's return, the show f...</td>\n",
       "      <td>8.3</td>\n",
       "      <td>NaN</td>\n",
       "      <td>1,259</td>\n",
       "      <td>NaN</td>\n",
       "      <td>DC</td>\n",
       "    </tr>\n",
       "    <tr>\n",
       "      <th>1687</th>\n",
       "      <td>1687</td>\n",
       "      <td>Supergirl</td>\n",
       "      <td>(2015–2021)</td>\n",
       "      <td>Action,Adventure,Drama</td>\n",
       "      <td>42 min</td>\n",
       "      <td>TV-PG</td>\n",
       "      <td>AlexisOstrander</td>\n",
       "      <td>MelissaBenoist,MehcadBrooks,ChylerLeigh,KatieM...</td>\n",
       "      <td>Kara comes face to face with Red Daughter and ...</td>\n",
       "      <td>8.1</td>\n",
       "      <td>NaN</td>\n",
       "      <td>1,053</td>\n",
       "      <td>NaN</td>\n",
       "      <td>DC</td>\n",
       "    </tr>\n",
       "    <tr>\n",
       "      <th>1688</th>\n",
       "      <td>1688</td>\n",
       "      <td>Supergirl</td>\n",
       "      <td>(2015–2021)</td>\n",
       "      <td>Action,Adventure,Drama</td>\n",
       "      <td>42 min</td>\n",
       "      <td>TV-PG</td>\n",
       "      <td>ShannonKohli</td>\n",
       "      <td>MelissaBenoist,MehcadBrooks,ChylerLeigh,KatieM...</td>\n",
       "      <td>Kara and Lena head to Kaznia to hunt down Lex....</td>\n",
       "      <td>7.4</td>\n",
       "      <td>NaN</td>\n",
       "      <td>1,036</td>\n",
       "      <td>NaN</td>\n",
       "      <td>DC</td>\n",
       "    </tr>\n",
       "    <tr>\n",
       "      <th>1689</th>\n",
       "      <td>1689</td>\n",
       "      <td>Supergirl</td>\n",
       "      <td>(2015–2021)</td>\n",
       "      <td>Action,Adventure,Drama</td>\n",
       "      <td>42 min</td>\n",
       "      <td>TV-PG</td>\n",
       "      <td>BenHernandezBray</td>\n",
       "      <td>MelissaBenoist,MehcadBrooks,ChylerLeigh,KatieM...</td>\n",
       "      <td>Supergirl must deal with the destructive after...</td>\n",
       "      <td>7.5</td>\n",
       "      <td>NaN</td>\n",
       "      <td>1,037</td>\n",
       "      <td>NaN</td>\n",
       "      <td>DC</td>\n",
       "    </tr>\n",
       "  </tbody>\n",
       "</table>\n",
       "<p>1690 rows × 14 columns</p>\n",
       "</div>"
      ],
      "text/plain": [
       "      Unnamed: 0                              Movie         Year  \\\n",
       "0              0                           Eternals       (2021)   \n",
       "1              1                               Loki     (2021– )   \n",
       "2              2  The Falcon and the Winter Soldier       (2021)   \n",
       "3              3                        WandaVision       (2021)   \n",
       "4              4            Spider-Man: No Way Home       (2021)   \n",
       "...          ...                                ...          ...   \n",
       "1685        1685           DC's Legends of Tomorrow     (2016– )   \n",
       "1686        1686                          Supergirl  (2015–2021)   \n",
       "1687        1687                          Supergirl  (2015–2021)   \n",
       "1688        1688                          Supergirl  (2015–2021)   \n",
       "1689        1689                          Supergirl  (2015–2021)   \n",
       "\n",
       "                         Genre  RunTime Rating          Director  \\\n",
       "0       Action,Adventure,Drama      NaN    NaN         ChloéZhao   \n",
       "1     Action,Adventure,Fantasy      NaN    NaN               NaN   \n",
       "2       Action,Adventure,Drama   50 min  TV-14               NaN   \n",
       "3          Action,Comedy,Drama  350 min  TV-PG               NaN   \n",
       "4      Action,Adventure,Sci-Fi      NaN    NaN          JonWatts   \n",
       "...                        ...      ...    ...               ...   \n",
       "1685    Action,Adventure,Drama   42 min  TV-14      GregorySmith   \n",
       "1686    Action,Adventure,Drama   42 min  TV-PG        CarlSeaton   \n",
       "1687    Action,Adventure,Drama   42 min  TV-PG   AlexisOstrander   \n",
       "1688    Action,Adventure,Drama   42 min  TV-PG      ShannonKohli   \n",
       "1689    Action,Adventure,Drama   42 min  TV-PG  BenHernandezBray   \n",
       "\n",
       "                                                  Actor  \\\n",
       "0     AngelinaJolie,GemmaChan,RichardMadden,BarryKeo...   \n",
       "1     TomHiddleston,OwenWilson,SophiaDiMartino,Richa...   \n",
       "2     AnthonyMackie,SebastianStan,WyattRussell,ErinK...   \n",
       "3     ElizabethOlsen,PaulBettany,KathrynHahn,Teyonah...   \n",
       "4           AngourieRice,TomHolland,Zendaya,MarisaTomei   \n",
       "...                                                 ...   \n",
       "1685  BrandonRouth,CaityLotz,MaisieRichardson-Seller...   \n",
       "1686  MelissaBenoist,MehcadBrooks,ChylerLeigh,KatieM...   \n",
       "1687  MelissaBenoist,MehcadBrooks,ChylerLeigh,KatieM...   \n",
       "1688  MelissaBenoist,MehcadBrooks,ChylerLeigh,KatieM...   \n",
       "1689  MelissaBenoist,MehcadBrooks,ChylerLeigh,KatieM...   \n",
       "\n",
       "                                            Description  IMDB_Score  \\\n",
       "0     The saga of the Eternals, a race of immortal b...         NaN   \n",
       "1         A new Marvel chapter with Loki at its center.         NaN   \n",
       "2     Following the events of 'Avengers: Endgame,' S...         7.5   \n",
       "3     Blends the style of classic sitcoms with the M...         8.1   \n",
       "4          A continuation of Spider-Man: Far From Home.         NaN   \n",
       "...                                                 ...         ...   \n",
       "1685  Worlds lived, worlds died. Nothing will ever b...         8.5   \n",
       "1686  In the wake of Lex Luthor's return, the show f...         8.3   \n",
       "1687  Kara comes face to face with Red Daughter and ...         8.1   \n",
       "1688  Kara and Lena head to Kaznia to hunt down Lex....         7.4   \n",
       "1689  Supergirl must deal with the destructive after...         7.5   \n",
       "\n",
       "      Metascore    Votes USA_Gross Category  \n",
       "0           NaN      NaN       NaN   Marvel  \n",
       "1           NaN      NaN       NaN   Marvel  \n",
       "2           NaN  105,557       NaN   Marvel  \n",
       "3           NaN  174,710       NaN   Marvel  \n",
       "4           NaN      NaN       NaN   Marvel  \n",
       "...         ...      ...       ...      ...  \n",
       "1685        NaN    2,050       NaN       DC  \n",
       "1686        NaN    1,259       NaN       DC  \n",
       "1687        NaN    1,053       NaN       DC  \n",
       "1688        NaN    1,036       NaN       DC  \n",
       "1689        NaN    1,037       NaN       DC  \n",
       "\n",
       "[1690 rows x 14 columns]"
      ]
     },
     "execution_count": 5,
     "metadata": {},
     "output_type": "execute_result"
    }
   ],
   "source": [
    "import pandas as pd\n",
    "\n",
    "df = pd.read_csv('\\\\Users\\\\bruno\\\\OneDrive\\\\Projeto XY\\\\Youtube\\\\Ao vivo\\\\Projeto Python\\\\Marvel_DC_imdb.csv', sep=',')\n",
    "df"
   ]
  },
  {
   "cell_type": "code",
   "execution_count": 6,
   "metadata": {},
   "outputs": [
    {
     "data": {
      "text/html": [
       "<div>\n",
       "<style scoped>\n",
       "    .dataframe tbody tr th:only-of-type {\n",
       "        vertical-align: middle;\n",
       "    }\n",
       "\n",
       "    .dataframe tbody tr th {\n",
       "        vertical-align: top;\n",
       "    }\n",
       "\n",
       "    .dataframe thead th {\n",
       "        text-align: right;\n",
       "    }\n",
       "</style>\n",
       "<table border=\"1\" class=\"dataframe\">\n",
       "  <thead>\n",
       "    <tr style=\"text-align: right;\">\n",
       "      <th></th>\n",
       "      <th>Unnamed: 0</th>\n",
       "      <th>Movie</th>\n",
       "      <th>Year</th>\n",
       "      <th>Genre</th>\n",
       "      <th>RunTime</th>\n",
       "      <th>Rating</th>\n",
       "      <th>Director</th>\n",
       "      <th>Actor</th>\n",
       "      <th>Description</th>\n",
       "      <th>IMDB_Score</th>\n",
       "      <th>Metascore</th>\n",
       "      <th>Votes</th>\n",
       "      <th>USA_Gross</th>\n",
       "      <th>Category</th>\n",
       "    </tr>\n",
       "  </thead>\n",
       "  <tbody>\n",
       "    <tr>\n",
       "      <th>0</th>\n",
       "      <td>0</td>\n",
       "      <td>Eternals</td>\n",
       "      <td>(2021)</td>\n",
       "      <td>Action,Adventure,Drama</td>\n",
       "      <td>NaN</td>\n",
       "      <td>NaN</td>\n",
       "      <td>ChloéZhao</td>\n",
       "      <td>AngelinaJolie,GemmaChan,RichardMadden,BarryKeo...</td>\n",
       "      <td>The saga of the Eternals, a race of immortal b...</td>\n",
       "      <td>NaN</td>\n",
       "      <td>NaN</td>\n",
       "      <td>NaN</td>\n",
       "      <td>NaN</td>\n",
       "      <td>Marvel</td>\n",
       "    </tr>\n",
       "    <tr>\n",
       "      <th>1</th>\n",
       "      <td>1</td>\n",
       "      <td>Loki</td>\n",
       "      <td>(2021– )</td>\n",
       "      <td>Action,Adventure,Fantasy</td>\n",
       "      <td>NaN</td>\n",
       "      <td>NaN</td>\n",
       "      <td>NaN</td>\n",
       "      <td>TomHiddleston,OwenWilson,SophiaDiMartino,Richa...</td>\n",
       "      <td>A new Marvel chapter with Loki at its center.</td>\n",
       "      <td>NaN</td>\n",
       "      <td>NaN</td>\n",
       "      <td>NaN</td>\n",
       "      <td>NaN</td>\n",
       "      <td>Marvel</td>\n",
       "    </tr>\n",
       "    <tr>\n",
       "      <th>2</th>\n",
       "      <td>2</td>\n",
       "      <td>The Falcon and the Winter Soldier</td>\n",
       "      <td>(2021)</td>\n",
       "      <td>Action,Adventure,Drama</td>\n",
       "      <td>50 min</td>\n",
       "      <td>TV-14</td>\n",
       "      <td>NaN</td>\n",
       "      <td>AnthonyMackie,SebastianStan,WyattRussell,ErinK...</td>\n",
       "      <td>Following the events of 'Avengers: Endgame,' S...</td>\n",
       "      <td>7.5</td>\n",
       "      <td>NaN</td>\n",
       "      <td>105,557</td>\n",
       "      <td>NaN</td>\n",
       "      <td>Marvel</td>\n",
       "    </tr>\n",
       "    <tr>\n",
       "      <th>3</th>\n",
       "      <td>3</td>\n",
       "      <td>WandaVision</td>\n",
       "      <td>(2021)</td>\n",
       "      <td>Action,Comedy,Drama</td>\n",
       "      <td>350 min</td>\n",
       "      <td>TV-PG</td>\n",
       "      <td>NaN</td>\n",
       "      <td>ElizabethOlsen,PaulBettany,KathrynHahn,Teyonah...</td>\n",
       "      <td>Blends the style of classic sitcoms with the M...</td>\n",
       "      <td>8.1</td>\n",
       "      <td>NaN</td>\n",
       "      <td>174,710</td>\n",
       "      <td>NaN</td>\n",
       "      <td>Marvel</td>\n",
       "    </tr>\n",
       "    <tr>\n",
       "      <th>4</th>\n",
       "      <td>4</td>\n",
       "      <td>Spider-Man: No Way Home</td>\n",
       "      <td>(2021)</td>\n",
       "      <td>Action,Adventure,Sci-Fi</td>\n",
       "      <td>NaN</td>\n",
       "      <td>NaN</td>\n",
       "      <td>JonWatts</td>\n",
       "      <td>AngourieRice,TomHolland,Zendaya,MarisaTomei</td>\n",
       "      <td>A continuation of Spider-Man: Far From Home.</td>\n",
       "      <td>NaN</td>\n",
       "      <td>NaN</td>\n",
       "      <td>NaN</td>\n",
       "      <td>NaN</td>\n",
       "      <td>Marvel</td>\n",
       "    </tr>\n",
       "  </tbody>\n",
       "</table>\n",
       "</div>"
      ],
      "text/plain": [
       "   Unnamed: 0                              Movie      Year  \\\n",
       "0           0                           Eternals    (2021)   \n",
       "1           1                               Loki  (2021– )   \n",
       "2           2  The Falcon and the Winter Soldier    (2021)   \n",
       "3           3                        WandaVision    (2021)   \n",
       "4           4            Spider-Man: No Way Home    (2021)   \n",
       "\n",
       "                      Genre  RunTime Rating   Director  \\\n",
       "0    Action,Adventure,Drama      NaN    NaN  ChloéZhao   \n",
       "1  Action,Adventure,Fantasy      NaN    NaN        NaN   \n",
       "2    Action,Adventure,Drama   50 min  TV-14        NaN   \n",
       "3       Action,Comedy,Drama  350 min  TV-PG        NaN   \n",
       "4   Action,Adventure,Sci-Fi      NaN    NaN   JonWatts   \n",
       "\n",
       "                                               Actor  \\\n",
       "0  AngelinaJolie,GemmaChan,RichardMadden,BarryKeo...   \n",
       "1  TomHiddleston,OwenWilson,SophiaDiMartino,Richa...   \n",
       "2  AnthonyMackie,SebastianStan,WyattRussell,ErinK...   \n",
       "3  ElizabethOlsen,PaulBettany,KathrynHahn,Teyonah...   \n",
       "4        AngourieRice,TomHolland,Zendaya,MarisaTomei   \n",
       "\n",
       "                                         Description  IMDB_Score  Metascore  \\\n",
       "0  The saga of the Eternals, a race of immortal b...         NaN        NaN   \n",
       "1      A new Marvel chapter with Loki at its center.         NaN        NaN   \n",
       "2  Following the events of 'Avengers: Endgame,' S...         7.5        NaN   \n",
       "3  Blends the style of classic sitcoms with the M...         8.1        NaN   \n",
       "4       A continuation of Spider-Man: Far From Home.         NaN        NaN   \n",
       "\n",
       "     Votes USA_Gross Category  \n",
       "0      NaN       NaN   Marvel  \n",
       "1      NaN       NaN   Marvel  \n",
       "2  105,557       NaN   Marvel  \n",
       "3  174,710       NaN   Marvel  \n",
       "4      NaN       NaN   Marvel  "
      ]
     },
     "execution_count": 6,
     "metadata": {},
     "output_type": "execute_result"
    }
   ],
   "source": [
    "df.head()"
   ]
  },
  {
   "cell_type": "code",
   "execution_count": 7,
   "metadata": {},
   "outputs": [
    {
     "data": {
      "text/html": [
       "<div>\n",
       "<style scoped>\n",
       "    .dataframe tbody tr th:only-of-type {\n",
       "        vertical-align: middle;\n",
       "    }\n",
       "\n",
       "    .dataframe tbody tr th {\n",
       "        vertical-align: top;\n",
       "    }\n",
       "\n",
       "    .dataframe thead th {\n",
       "        text-align: right;\n",
       "    }\n",
       "</style>\n",
       "<table border=\"1\" class=\"dataframe\">\n",
       "  <thead>\n",
       "    <tr style=\"text-align: right;\">\n",
       "      <th></th>\n",
       "      <th>Unnamed: 0</th>\n",
       "      <th>Movie</th>\n",
       "      <th>Year</th>\n",
       "      <th>Genre</th>\n",
       "      <th>RunTime</th>\n",
       "      <th>Rating</th>\n",
       "      <th>Director</th>\n",
       "      <th>Actor</th>\n",
       "      <th>Description</th>\n",
       "      <th>IMDB_Score</th>\n",
       "      <th>Metascore</th>\n",
       "      <th>Votes</th>\n",
       "      <th>USA_Gross</th>\n",
       "      <th>Category</th>\n",
       "    </tr>\n",
       "  </thead>\n",
       "  <tbody>\n",
       "    <tr>\n",
       "      <th>1685</th>\n",
       "      <td>1685</td>\n",
       "      <td>DC's Legends of Tomorrow</td>\n",
       "      <td>(2016– )</td>\n",
       "      <td>Action,Adventure,Drama</td>\n",
       "      <td>42 min</td>\n",
       "      <td>TV-14</td>\n",
       "      <td>GregorySmith</td>\n",
       "      <td>BrandonRouth,CaityLotz,MaisieRichardson-Seller...</td>\n",
       "      <td>Worlds lived, worlds died. Nothing will ever b...</td>\n",
       "      <td>8.5</td>\n",
       "      <td>NaN</td>\n",
       "      <td>2,050</td>\n",
       "      <td>NaN</td>\n",
       "      <td>DC</td>\n",
       "    </tr>\n",
       "    <tr>\n",
       "      <th>1686</th>\n",
       "      <td>1686</td>\n",
       "      <td>Supergirl</td>\n",
       "      <td>(2015–2021)</td>\n",
       "      <td>Action,Adventure,Drama</td>\n",
       "      <td>42 min</td>\n",
       "      <td>TV-PG</td>\n",
       "      <td>CarlSeaton</td>\n",
       "      <td>MelissaBenoist,MehcadBrooks,ChylerLeigh,KatieM...</td>\n",
       "      <td>In the wake of Lex Luthor's return, the show f...</td>\n",
       "      <td>8.3</td>\n",
       "      <td>NaN</td>\n",
       "      <td>1,259</td>\n",
       "      <td>NaN</td>\n",
       "      <td>DC</td>\n",
       "    </tr>\n",
       "    <tr>\n",
       "      <th>1687</th>\n",
       "      <td>1687</td>\n",
       "      <td>Supergirl</td>\n",
       "      <td>(2015–2021)</td>\n",
       "      <td>Action,Adventure,Drama</td>\n",
       "      <td>42 min</td>\n",
       "      <td>TV-PG</td>\n",
       "      <td>AlexisOstrander</td>\n",
       "      <td>MelissaBenoist,MehcadBrooks,ChylerLeigh,KatieM...</td>\n",
       "      <td>Kara comes face to face with Red Daughter and ...</td>\n",
       "      <td>8.1</td>\n",
       "      <td>NaN</td>\n",
       "      <td>1,053</td>\n",
       "      <td>NaN</td>\n",
       "      <td>DC</td>\n",
       "    </tr>\n",
       "    <tr>\n",
       "      <th>1688</th>\n",
       "      <td>1688</td>\n",
       "      <td>Supergirl</td>\n",
       "      <td>(2015–2021)</td>\n",
       "      <td>Action,Adventure,Drama</td>\n",
       "      <td>42 min</td>\n",
       "      <td>TV-PG</td>\n",
       "      <td>ShannonKohli</td>\n",
       "      <td>MelissaBenoist,MehcadBrooks,ChylerLeigh,KatieM...</td>\n",
       "      <td>Kara and Lena head to Kaznia to hunt down Lex....</td>\n",
       "      <td>7.4</td>\n",
       "      <td>NaN</td>\n",
       "      <td>1,036</td>\n",
       "      <td>NaN</td>\n",
       "      <td>DC</td>\n",
       "    </tr>\n",
       "    <tr>\n",
       "      <th>1689</th>\n",
       "      <td>1689</td>\n",
       "      <td>Supergirl</td>\n",
       "      <td>(2015–2021)</td>\n",
       "      <td>Action,Adventure,Drama</td>\n",
       "      <td>42 min</td>\n",
       "      <td>TV-PG</td>\n",
       "      <td>BenHernandezBray</td>\n",
       "      <td>MelissaBenoist,MehcadBrooks,ChylerLeigh,KatieM...</td>\n",
       "      <td>Supergirl must deal with the destructive after...</td>\n",
       "      <td>7.5</td>\n",
       "      <td>NaN</td>\n",
       "      <td>1,037</td>\n",
       "      <td>NaN</td>\n",
       "      <td>DC</td>\n",
       "    </tr>\n",
       "  </tbody>\n",
       "</table>\n",
       "</div>"
      ],
      "text/plain": [
       "      Unnamed: 0                      Movie         Year  \\\n",
       "1685        1685   DC's Legends of Tomorrow     (2016– )   \n",
       "1686        1686                  Supergirl  (2015–2021)   \n",
       "1687        1687                  Supergirl  (2015–2021)   \n",
       "1688        1688                  Supergirl  (2015–2021)   \n",
       "1689        1689                  Supergirl  (2015–2021)   \n",
       "\n",
       "                       Genre RunTime Rating          Director  \\\n",
       "1685  Action,Adventure,Drama  42 min  TV-14      GregorySmith   \n",
       "1686  Action,Adventure,Drama  42 min  TV-PG        CarlSeaton   \n",
       "1687  Action,Adventure,Drama  42 min  TV-PG   AlexisOstrander   \n",
       "1688  Action,Adventure,Drama  42 min  TV-PG      ShannonKohli   \n",
       "1689  Action,Adventure,Drama  42 min  TV-PG  BenHernandezBray   \n",
       "\n",
       "                                                  Actor  \\\n",
       "1685  BrandonRouth,CaityLotz,MaisieRichardson-Seller...   \n",
       "1686  MelissaBenoist,MehcadBrooks,ChylerLeigh,KatieM...   \n",
       "1687  MelissaBenoist,MehcadBrooks,ChylerLeigh,KatieM...   \n",
       "1688  MelissaBenoist,MehcadBrooks,ChylerLeigh,KatieM...   \n",
       "1689  MelissaBenoist,MehcadBrooks,ChylerLeigh,KatieM...   \n",
       "\n",
       "                                            Description  IMDB_Score  \\\n",
       "1685  Worlds lived, worlds died. Nothing will ever b...         8.5   \n",
       "1686  In the wake of Lex Luthor's return, the show f...         8.3   \n",
       "1687  Kara comes face to face with Red Daughter and ...         8.1   \n",
       "1688  Kara and Lena head to Kaznia to hunt down Lex....         7.4   \n",
       "1689  Supergirl must deal with the destructive after...         7.5   \n",
       "\n",
       "      Metascore  Votes USA_Gross Category  \n",
       "1685        NaN  2,050       NaN       DC  \n",
       "1686        NaN  1,259       NaN       DC  \n",
       "1687        NaN  1,053       NaN       DC  \n",
       "1688        NaN  1,036       NaN       DC  \n",
       "1689        NaN  1,037       NaN       DC  "
      ]
     },
     "execution_count": 7,
     "metadata": {},
     "output_type": "execute_result"
    }
   ],
   "source": [
    "df.tail()"
   ]
  },
  {
   "cell_type": "code",
   "execution_count": 10,
   "metadata": {},
   "outputs": [
    {
     "name": "stdout",
     "output_type": "stream",
     "text": [
      "10\n"
     ]
    }
   ],
   "source": [
    "a = 5\n",
    "a = a * 2\n",
    "print(a)"
   ]
  },
  {
   "cell_type": "markdown",
   "metadata": {},
   "source": [
    "#### Lista"
   ]
  },
  {
   "cell_type": "code",
   "execution_count": 11,
   "metadata": {},
   "outputs": [],
   "source": [
    "minha_lista = []\n",
    "filmes = ['Avengers', 'Batman', 'Superman']\n",
    "mix = [1, 'hello', 3.5, True]"
   ]
  },
  {
   "cell_type": "code",
   "execution_count": 16,
   "metadata": {},
   "outputs": [
    {
     "data": {
      "text/plain": [
       "'Superman'"
      ]
     },
     "execution_count": 16,
     "metadata": {},
     "output_type": "execute_result"
    }
   ],
   "source": [
    "filmes[-1]"
   ]
  },
  {
   "cell_type": "code",
   "execution_count": 17,
   "metadata": {},
   "outputs": [],
   "source": [
    "filmes.append('Wonder Woman')"
   ]
  },
  {
   "cell_type": "code",
   "execution_count": 18,
   "metadata": {},
   "outputs": [
    {
     "data": {
      "text/plain": [
       "['Avengers', 'Batman', 'Superman', 'Wonder Woman']"
      ]
     },
     "execution_count": 18,
     "metadata": {},
     "output_type": "execute_result"
    }
   ],
   "source": [
    "filmes"
   ]
  },
  {
   "cell_type": "code",
   "execution_count": 19,
   "metadata": {},
   "outputs": [],
   "source": [
    "filmes.insert(1, 'Spider-Man')"
   ]
  },
  {
   "cell_type": "code",
   "execution_count": 22,
   "metadata": {},
   "outputs": [
    {
     "data": {
      "text/plain": [
       "['Avengers', 'Spider-Man', 'Superman', 'Wonder Woman']"
      ]
     },
     "execution_count": 22,
     "metadata": {},
     "output_type": "execute_result"
    }
   ],
   "source": [
    "filmes"
   ]
  },
  {
   "cell_type": "code",
   "execution_count": 21,
   "metadata": {},
   "outputs": [],
   "source": [
    "filmes.remove('Batman')"
   ]
  },
  {
   "cell_type": "code",
   "execution_count": 23,
   "metadata": {},
   "outputs": [
    {
     "data": {
      "text/plain": [
       "['Avengers', 'Spider-Man', 'Superman', 'Wonder Woman']"
      ]
     },
     "execution_count": 23,
     "metadata": {},
     "output_type": "execute_result"
    }
   ],
   "source": [
    "filmes"
   ]
  },
  {
   "cell_type": "code",
   "execution_count": 24,
   "metadata": {},
   "outputs": [
    {
     "data": {
      "text/plain": [
       "'Wonder Woman'"
      ]
     },
     "execution_count": 24,
     "metadata": {},
     "output_type": "execute_result"
    }
   ],
   "source": [
    "filmes.pop()"
   ]
  },
  {
   "cell_type": "code",
   "execution_count": 25,
   "metadata": {},
   "outputs": [],
   "source": [
    "minha_tupla = (1, 2, 3)\n",
    "mix_tupla = (1, 'hello', 3.5, True)"
   ]
  },
  {
   "cell_type": "code",
   "execution_count": 27,
   "metadata": {},
   "outputs": [
    {
     "data": {
      "text/plain": [
       "(1, 2, 3)"
      ]
     },
     "execution_count": 27,
     "metadata": {},
     "output_type": "execute_result"
    }
   ],
   "source": [
    "minha_tupla"
   ]
  },
  {
   "cell_type": "code",
   "execution_count": 32,
   "metadata": {},
   "outputs": [
    {
     "name": "stdout",
     "output_type": "stream",
     "text": [
      "1\n",
      "hello\n"
     ]
    }
   ],
   "source": [
    "print(minha_tupla[0])\n",
    "print(mix_tupla[1])"
   ]
  },
  {
   "cell_type": "code",
   "execution_count": 33,
   "metadata": {},
   "outputs": [],
   "source": [
    "meu_dict = {}\n",
    "filme_info = {'nome': 'Avengers', 'ano': 2012, 'nota': 8.1}"
   ]
  },
  {
   "cell_type": "code",
   "execution_count": 34,
   "metadata": {},
   "outputs": [
    {
     "data": {
      "text/plain": [
       "'Avengers'"
      ]
     },
     "execution_count": 34,
     "metadata": {},
     "output_type": "execute_result"
    }
   ],
   "source": [
    "filme_info['nome'] # $"
   ]
  },
  {
   "cell_type": "code",
   "execution_count": 35,
   "metadata": {},
   "outputs": [],
   "source": [
    "filme_info['ano'] = 2019"
   ]
  },
  {
   "cell_type": "code",
   "execution_count": 36,
   "metadata": {},
   "outputs": [
    {
     "data": {
      "text/plain": [
       "{'nome': 'Avengers', 'ano': 2019, 'nota': 8.1}"
      ]
     },
     "execution_count": 36,
     "metadata": {},
     "output_type": "execute_result"
    }
   ],
   "source": [
    "filme_info"
   ]
  },
  {
   "cell_type": "code",
   "execution_count": 37,
   "metadata": {},
   "outputs": [],
   "source": [
    "del filme_info['nota']"
   ]
  },
  {
   "cell_type": "code",
   "execution_count": 38,
   "metadata": {},
   "outputs": [
    {
     "data": {
      "text/plain": [
       "{'nome': 'Avengers', 'ano': 2019}"
      ]
     },
     "execution_count": 38,
     "metadata": {},
     "output_type": "execute_result"
    }
   ],
   "source": [
    "filme_info"
   ]
  },
  {
   "cell_type": "code",
   "execution_count": 39,
   "metadata": {},
   "outputs": [],
   "source": [
    "# Criação de um conjunto vazio\n",
    "meu_conjunto = set()"
   ]
  },
  {
   "cell_type": "code",
   "execution_count": 40,
   "metadata": {},
   "outputs": [
    {
     "data": {
      "text/plain": [
       "set()"
      ]
     },
     "execution_count": 40,
     "metadata": {},
     "output_type": "execute_result"
    }
   ],
   "source": [
    "meu_conjunto"
   ]
  },
  {
   "cell_type": "code",
   "execution_count": 42,
   "metadata": {},
   "outputs": [
    {
     "data": {
      "text/plain": [
       "{1, 2, 3, 4}"
      ]
     },
     "execution_count": 42,
     "metadata": {},
     "output_type": "execute_result"
    }
   ],
   "source": [
    "# Conjunto com elementos\n",
    "numeros = {1, 2, 3, 4}\n",
    "numeros"
   ]
  },
  {
   "cell_type": "code",
   "execution_count": 43,
   "metadata": {},
   "outputs": [
    {
     "data": {
      "text/plain": [
       "{1, 2, 3, 4, 5}"
      ]
     },
     "execution_count": 43,
     "metadata": {},
     "output_type": "execute_result"
    }
   ],
   "source": [
    "numeros.add(5)\n",
    "numeros"
   ]
  },
  {
   "cell_type": "code",
   "execution_count": 44,
   "metadata": {},
   "outputs": [],
   "source": [
    "numeros.remove(3)"
   ]
  },
  {
   "cell_type": "code",
   "execution_count": 45,
   "metadata": {},
   "outputs": [
    {
     "data": {
      "text/plain": [
       "{1, 2, 4, 5}"
      ]
     },
     "execution_count": 45,
     "metadata": {},
     "output_type": "execute_result"
    }
   ],
   "source": [
    "numeros"
   ]
  },
  {
   "cell_type": "code",
   "execution_count": 46,
   "metadata": {},
   "outputs": [],
   "source": [
    "# Operações com conjuntos\n",
    "A = {1, 2, 3}\n",
    "B = {3, 4, 5}"
   ]
  },
  {
   "cell_type": "code",
   "execution_count": 48,
   "metadata": {},
   "outputs": [
    {
     "data": {
      "text/plain": [
       "{1, 2, 3, 4, 5}"
      ]
     },
     "execution_count": 48,
     "metadata": {},
     "output_type": "execute_result"
    }
   ],
   "source": [
    "uniao = A | B\n",
    "uniao"
   ]
  },
  {
   "cell_type": "code",
   "execution_count": 49,
   "metadata": {},
   "outputs": [
    {
     "data": {
      "text/plain": [
       "{3}"
      ]
     },
     "execution_count": 49,
     "metadata": {},
     "output_type": "execute_result"
    }
   ],
   "source": [
    "intersecao = A & B\n",
    "intersecao"
   ]
  },
  {
   "cell_type": "code",
   "execution_count": 50,
   "metadata": {},
   "outputs": [
    {
     "data": {
      "text/plain": [
       "{1, 2}"
      ]
     },
     "execution_count": 50,
     "metadata": {},
     "output_type": "execute_result"
    }
   ],
   "source": [
    "diferenca = A - B\n",
    "diferenca"
   ]
  },
  {
   "cell_type": "code",
   "execution_count": 51,
   "metadata": {},
   "outputs": [
    {
     "data": {
      "text/plain": [
       "5"
      ]
     },
     "execution_count": 51,
     "metadata": {},
     "output_type": "execute_result"
    }
   ],
   "source": [
    "2+3"
   ]
  },
  {
   "cell_type": "code",
   "execution_count": 52,
   "metadata": {},
   "outputs": [
    {
     "data": {
      "text/plain": [
       "5"
      ]
     },
     "execution_count": 52,
     "metadata": {},
     "output_type": "execute_result"
    }
   ],
   "source": [
    "7-2"
   ]
  },
  {
   "cell_type": "code",
   "execution_count": 53,
   "metadata": {},
   "outputs": [
    {
     "data": {
      "text/plain": [
       "25"
      ]
     },
     "execution_count": 53,
     "metadata": {},
     "output_type": "execute_result"
    }
   ],
   "source": [
    "a = 2+3\n",
    "b= 7-2\n",
    "c = a * b\n",
    "c"
   ]
  },
  {
   "cell_type": "code",
   "execution_count": 54,
   "metadata": {},
   "outputs": [
    {
     "data": {
      "text/plain": [
       "5.0"
      ]
     },
     "execution_count": 54,
     "metadata": {},
     "output_type": "execute_result"
    }
   ],
   "source": [
    "10/2"
   ]
  },
  {
   "cell_type": "code",
   "execution_count": 55,
   "metadata": {},
   "outputs": [
    {
     "data": {
      "text/plain": [
       "3.5"
      ]
     },
     "execution_count": 55,
     "metadata": {},
     "output_type": "execute_result"
    }
   ],
   "source": [
    "7/2"
   ]
  },
  {
   "cell_type": "code",
   "execution_count": 56,
   "metadata": {},
   "outputs": [
    {
     "data": {
      "text/plain": [
       "3"
      ]
     },
     "execution_count": 56,
     "metadata": {},
     "output_type": "execute_result"
    }
   ],
   "source": [
    "7//2"
   ]
  },
  {
   "cell_type": "code",
   "execution_count": 58,
   "metadata": {},
   "outputs": [
    {
     "data": {
      "text/plain": [
       "16"
      ]
     },
     "execution_count": 58,
     "metadata": {},
     "output_type": "execute_result"
    }
   ],
   "source": [
    "2**4"
   ]
  },
  {
   "cell_type": "code",
   "execution_count": 62,
   "metadata": {},
   "outputs": [
    {
     "data": {
      "text/html": [
       "<div>\n",
       "<style scoped>\n",
       "    .dataframe tbody tr th:only-of-type {\n",
       "        vertical-align: middle;\n",
       "    }\n",
       "\n",
       "    .dataframe tbody tr th {\n",
       "        vertical-align: top;\n",
       "    }\n",
       "\n",
       "    .dataframe thead th {\n",
       "        text-align: right;\n",
       "    }\n",
       "</style>\n",
       "<table border=\"1\" class=\"dataframe\">\n",
       "  <thead>\n",
       "    <tr style=\"text-align: right;\">\n",
       "      <th></th>\n",
       "      <th>Unnamed: 0</th>\n",
       "      <th>Movie</th>\n",
       "      <th>Year</th>\n",
       "      <th>Genre</th>\n",
       "      <th>RunTime</th>\n",
       "      <th>Rating</th>\n",
       "      <th>Director</th>\n",
       "      <th>Actor</th>\n",
       "      <th>Description</th>\n",
       "      <th>IMDB_Score</th>\n",
       "      <th>Metascore</th>\n",
       "      <th>Votes</th>\n",
       "      <th>USA_Gross</th>\n",
       "      <th>Category</th>\n",
       "    </tr>\n",
       "  </thead>\n",
       "  <tbody>\n",
       "    <tr>\n",
       "      <th>0</th>\n",
       "      <td>0</td>\n",
       "      <td>Eternals</td>\n",
       "      <td>(2021)</td>\n",
       "      <td>Action,Adventure,Drama</td>\n",
       "      <td>NaN</td>\n",
       "      <td>NaN</td>\n",
       "      <td>ChloéZhao</td>\n",
       "      <td>AngelinaJolie,GemmaChan,RichardMadden,BarryKeo...</td>\n",
       "      <td>The saga of the Eternals, a race of immortal b...</td>\n",
       "      <td>NaN</td>\n",
       "      <td>NaN</td>\n",
       "      <td>NaN</td>\n",
       "      <td>NaN</td>\n",
       "      <td>Marvel</td>\n",
       "    </tr>\n",
       "    <tr>\n",
       "      <th>1</th>\n",
       "      <td>1</td>\n",
       "      <td>Loki</td>\n",
       "      <td>(2021– )</td>\n",
       "      <td>Action,Adventure,Fantasy</td>\n",
       "      <td>NaN</td>\n",
       "      <td>NaN</td>\n",
       "      <td>NaN</td>\n",
       "      <td>TomHiddleston,OwenWilson,SophiaDiMartino,Richa...</td>\n",
       "      <td>A new Marvel chapter with Loki at its center.</td>\n",
       "      <td>NaN</td>\n",
       "      <td>NaN</td>\n",
       "      <td>NaN</td>\n",
       "      <td>NaN</td>\n",
       "      <td>Marvel</td>\n",
       "    </tr>\n",
       "    <tr>\n",
       "      <th>2</th>\n",
       "      <td>2</td>\n",
       "      <td>The Falcon and the Winter Soldier</td>\n",
       "      <td>(2021)</td>\n",
       "      <td>Action,Adventure,Drama</td>\n",
       "      <td>50 min</td>\n",
       "      <td>TV-14</td>\n",
       "      <td>NaN</td>\n",
       "      <td>AnthonyMackie,SebastianStan,WyattRussell,ErinK...</td>\n",
       "      <td>Following the events of 'Avengers: Endgame,' S...</td>\n",
       "      <td>7.5</td>\n",
       "      <td>NaN</td>\n",
       "      <td>105,557</td>\n",
       "      <td>NaN</td>\n",
       "      <td>Marvel</td>\n",
       "    </tr>\n",
       "    <tr>\n",
       "      <th>3</th>\n",
       "      <td>3</td>\n",
       "      <td>WandaVision</td>\n",
       "      <td>(2021)</td>\n",
       "      <td>Action,Comedy,Drama</td>\n",
       "      <td>350 min</td>\n",
       "      <td>TV-PG</td>\n",
       "      <td>NaN</td>\n",
       "      <td>ElizabethOlsen,PaulBettany,KathrynHahn,Teyonah...</td>\n",
       "      <td>Blends the style of classic sitcoms with the M...</td>\n",
       "      <td>8.1</td>\n",
       "      <td>NaN</td>\n",
       "      <td>174,710</td>\n",
       "      <td>NaN</td>\n",
       "      <td>Marvel</td>\n",
       "    </tr>\n",
       "    <tr>\n",
       "      <th>4</th>\n",
       "      <td>4</td>\n",
       "      <td>Spider-Man: No Way Home</td>\n",
       "      <td>(2021)</td>\n",
       "      <td>Action,Adventure,Sci-Fi</td>\n",
       "      <td>NaN</td>\n",
       "      <td>NaN</td>\n",
       "      <td>JonWatts</td>\n",
       "      <td>AngourieRice,TomHolland,Zendaya,MarisaTomei</td>\n",
       "      <td>A continuation of Spider-Man: Far From Home.</td>\n",
       "      <td>NaN</td>\n",
       "      <td>NaN</td>\n",
       "      <td>NaN</td>\n",
       "      <td>NaN</td>\n",
       "      <td>Marvel</td>\n",
       "    </tr>\n",
       "  </tbody>\n",
       "</table>\n",
       "</div>"
      ],
      "text/plain": [
       "   Unnamed: 0                              Movie      Year  \\\n",
       "0           0                           Eternals    (2021)   \n",
       "1           1                               Loki  (2021– )   \n",
       "2           2  The Falcon and the Winter Soldier    (2021)   \n",
       "3           3                        WandaVision    (2021)   \n",
       "4           4            Spider-Man: No Way Home    (2021)   \n",
       "\n",
       "                      Genre  RunTime Rating   Director  \\\n",
       "0    Action,Adventure,Drama      NaN    NaN  ChloéZhao   \n",
       "1  Action,Adventure,Fantasy      NaN    NaN        NaN   \n",
       "2    Action,Adventure,Drama   50 min  TV-14        NaN   \n",
       "3       Action,Comedy,Drama  350 min  TV-PG        NaN   \n",
       "4   Action,Adventure,Sci-Fi      NaN    NaN   JonWatts   \n",
       "\n",
       "                                               Actor  \\\n",
       "0  AngelinaJolie,GemmaChan,RichardMadden,BarryKeo...   \n",
       "1  TomHiddleston,OwenWilson,SophiaDiMartino,Richa...   \n",
       "2  AnthonyMackie,SebastianStan,WyattRussell,ErinK...   \n",
       "3  ElizabethOlsen,PaulBettany,KathrynHahn,Teyonah...   \n",
       "4        AngourieRice,TomHolland,Zendaya,MarisaTomei   \n",
       "\n",
       "                                         Description  IMDB_Score  Metascore  \\\n",
       "0  The saga of the Eternals, a race of immortal b...         NaN        NaN   \n",
       "1      A new Marvel chapter with Loki at its center.         NaN        NaN   \n",
       "2  Following the events of 'Avengers: Endgame,' S...         7.5        NaN   \n",
       "3  Blends the style of classic sitcoms with the M...         8.1        NaN   \n",
       "4       A continuation of Spider-Man: Far From Home.         NaN        NaN   \n",
       "\n",
       "     Votes USA_Gross Category  \n",
       "0      NaN       NaN   Marvel  \n",
       "1      NaN       NaN   Marvel  \n",
       "2  105,557       NaN   Marvel  \n",
       "3  174,710       NaN   Marvel  \n",
       "4      NaN       NaN   Marvel  "
      ]
     },
     "execution_count": 62,
     "metadata": {},
     "output_type": "execute_result"
    }
   ],
   "source": [
    "df.head()"
   ]
  },
  {
   "cell_type": "code",
   "execution_count": 64,
   "metadata": {},
   "outputs": [
    {
     "data": {
      "text/plain": [
       "count    1486.000000\n",
       "mean        7.821467\n",
       "std         0.918777\n",
       "min         1.100000\n",
       "25%         7.300000\n",
       "50%         8.000000\n",
       "75%         8.500000\n",
       "max         9.600000\n",
       "Name: IMDB_Score, dtype: float64"
      ]
     },
     "execution_count": 64,
     "metadata": {},
     "output_type": "execute_result"
    }
   ],
   "source": [
    "df['IMDB_Score'].describe()"
   ]
  },
  {
   "cell_type": "code",
   "execution_count": 65,
   "metadata": {},
   "outputs": [
    {
     "data": {
      "text/plain": [
       "11622.7"
      ]
     },
     "execution_count": 65,
     "metadata": {},
     "output_type": "execute_result"
    }
   ],
   "source": [
    "df['IMDB_Score'].sum()"
   ]
  },
  {
   "cell_type": "code",
   "execution_count": 66,
   "metadata": {},
   "outputs": [
    {
     "data": {
      "text/plain": [
       "(1690, 14)"
      ]
     },
     "execution_count": 66,
     "metadata": {},
     "output_type": "execute_result"
    }
   ],
   "source": [
    "df.shape"
   ]
  },
  {
   "cell_type": "code",
   "execution_count": 67,
   "metadata": {},
   "outputs": [
    {
     "data": {
      "text/plain": [
       "1690"
      ]
     },
     "execution_count": 67,
     "metadata": {},
     "output_type": "execute_result"
    }
   ],
   "source": [
    "df.shape[0]"
   ]
  },
  {
   "cell_type": "code",
   "execution_count": 68,
   "metadata": {},
   "outputs": [
    {
     "data": {
      "text/plain": [
       "6.877337278106509"
      ]
     },
     "execution_count": 68,
     "metadata": {},
     "output_type": "execute_result"
    }
   ],
   "source": [
    "df['IMDB_Score'].sum()/df.shape[0]"
   ]
  },
  {
   "cell_type": "code",
   "execution_count": 69,
   "metadata": {},
   "outputs": [
    {
     "data": {
      "text/html": [
       "<div>\n",
       "<style scoped>\n",
       "    .dataframe tbody tr th:only-of-type {\n",
       "        vertical-align: middle;\n",
       "    }\n",
       "\n",
       "    .dataframe tbody tr th {\n",
       "        vertical-align: top;\n",
       "    }\n",
       "\n",
       "    .dataframe thead th {\n",
       "        text-align: right;\n",
       "    }\n",
       "</style>\n",
       "<table border=\"1\" class=\"dataframe\">\n",
       "  <thead>\n",
       "    <tr style=\"text-align: right;\">\n",
       "      <th></th>\n",
       "      <th>Unnamed: 0</th>\n",
       "      <th>Movie</th>\n",
       "      <th>Year</th>\n",
       "      <th>Genre</th>\n",
       "      <th>RunTime</th>\n",
       "      <th>Rating</th>\n",
       "      <th>Director</th>\n",
       "      <th>Actor</th>\n",
       "      <th>Description</th>\n",
       "      <th>IMDB_Score</th>\n",
       "      <th>Metascore</th>\n",
       "      <th>Votes</th>\n",
       "      <th>USA_Gross</th>\n",
       "      <th>Category</th>\n",
       "    </tr>\n",
       "  </thead>\n",
       "  <tbody>\n",
       "    <tr>\n",
       "      <th>0</th>\n",
       "      <td>0</td>\n",
       "      <td>Eternals</td>\n",
       "      <td>(2021)</td>\n",
       "      <td>Action,Adventure,Drama</td>\n",
       "      <td>NaN</td>\n",
       "      <td>NaN</td>\n",
       "      <td>ChloéZhao</td>\n",
       "      <td>AngelinaJolie,GemmaChan,RichardMadden,BarryKeo...</td>\n",
       "      <td>The saga of the Eternals, a race of immortal b...</td>\n",
       "      <td>NaN</td>\n",
       "      <td>NaN</td>\n",
       "      <td>NaN</td>\n",
       "      <td>NaN</td>\n",
       "      <td>Marvel</td>\n",
       "    </tr>\n",
       "    <tr>\n",
       "      <th>1</th>\n",
       "      <td>1</td>\n",
       "      <td>Loki</td>\n",
       "      <td>(2021– )</td>\n",
       "      <td>Action,Adventure,Fantasy</td>\n",
       "      <td>NaN</td>\n",
       "      <td>NaN</td>\n",
       "      <td>NaN</td>\n",
       "      <td>TomHiddleston,OwenWilson,SophiaDiMartino,Richa...</td>\n",
       "      <td>A new Marvel chapter with Loki at its center.</td>\n",
       "      <td>NaN</td>\n",
       "      <td>NaN</td>\n",
       "      <td>NaN</td>\n",
       "      <td>NaN</td>\n",
       "      <td>Marvel</td>\n",
       "    </tr>\n",
       "    <tr>\n",
       "      <th>2</th>\n",
       "      <td>2</td>\n",
       "      <td>The Falcon and the Winter Soldier</td>\n",
       "      <td>(2021)</td>\n",
       "      <td>Action,Adventure,Drama</td>\n",
       "      <td>50 min</td>\n",
       "      <td>TV-14</td>\n",
       "      <td>NaN</td>\n",
       "      <td>AnthonyMackie,SebastianStan,WyattRussell,ErinK...</td>\n",
       "      <td>Following the events of 'Avengers: Endgame,' S...</td>\n",
       "      <td>7.5</td>\n",
       "      <td>NaN</td>\n",
       "      <td>105,557</td>\n",
       "      <td>NaN</td>\n",
       "      <td>Marvel</td>\n",
       "    </tr>\n",
       "    <tr>\n",
       "      <th>3</th>\n",
       "      <td>3</td>\n",
       "      <td>WandaVision</td>\n",
       "      <td>(2021)</td>\n",
       "      <td>Action,Comedy,Drama</td>\n",
       "      <td>350 min</td>\n",
       "      <td>TV-PG</td>\n",
       "      <td>NaN</td>\n",
       "      <td>ElizabethOlsen,PaulBettany,KathrynHahn,Teyonah...</td>\n",
       "      <td>Blends the style of classic sitcoms with the M...</td>\n",
       "      <td>8.1</td>\n",
       "      <td>NaN</td>\n",
       "      <td>174,710</td>\n",
       "      <td>NaN</td>\n",
       "      <td>Marvel</td>\n",
       "    </tr>\n",
       "    <tr>\n",
       "      <th>4</th>\n",
       "      <td>4</td>\n",
       "      <td>Spider-Man: No Way Home</td>\n",
       "      <td>(2021)</td>\n",
       "      <td>Action,Adventure,Sci-Fi</td>\n",
       "      <td>NaN</td>\n",
       "      <td>NaN</td>\n",
       "      <td>JonWatts</td>\n",
       "      <td>AngourieRice,TomHolland,Zendaya,MarisaTomei</td>\n",
       "      <td>A continuation of Spider-Man: Far From Home.</td>\n",
       "      <td>NaN</td>\n",
       "      <td>NaN</td>\n",
       "      <td>NaN</td>\n",
       "      <td>NaN</td>\n",
       "      <td>Marvel</td>\n",
       "    </tr>\n",
       "  </tbody>\n",
       "</table>\n",
       "</div>"
      ],
      "text/plain": [
       "   Unnamed: 0                              Movie      Year  \\\n",
       "0           0                           Eternals    (2021)   \n",
       "1           1                               Loki  (2021– )   \n",
       "2           2  The Falcon and the Winter Soldier    (2021)   \n",
       "3           3                        WandaVision    (2021)   \n",
       "4           4            Spider-Man: No Way Home    (2021)   \n",
       "\n",
       "                      Genre  RunTime Rating   Director  \\\n",
       "0    Action,Adventure,Drama      NaN    NaN  ChloéZhao   \n",
       "1  Action,Adventure,Fantasy      NaN    NaN        NaN   \n",
       "2    Action,Adventure,Drama   50 min  TV-14        NaN   \n",
       "3       Action,Comedy,Drama  350 min  TV-PG        NaN   \n",
       "4   Action,Adventure,Sci-Fi      NaN    NaN   JonWatts   \n",
       "\n",
       "                                               Actor  \\\n",
       "0  AngelinaJolie,GemmaChan,RichardMadden,BarryKeo...   \n",
       "1  TomHiddleston,OwenWilson,SophiaDiMartino,Richa...   \n",
       "2  AnthonyMackie,SebastianStan,WyattRussell,ErinK...   \n",
       "3  ElizabethOlsen,PaulBettany,KathrynHahn,Teyonah...   \n",
       "4        AngourieRice,TomHolland,Zendaya,MarisaTomei   \n",
       "\n",
       "                                         Description  IMDB_Score  Metascore  \\\n",
       "0  The saga of the Eternals, a race of immortal b...         NaN        NaN   \n",
       "1      A new Marvel chapter with Loki at its center.         NaN        NaN   \n",
       "2  Following the events of 'Avengers: Endgame,' S...         7.5        NaN   \n",
       "3  Blends the style of classic sitcoms with the M...         8.1        NaN   \n",
       "4       A continuation of Spider-Man: Far From Home.         NaN        NaN   \n",
       "\n",
       "     Votes USA_Gross Category  \n",
       "0      NaN       NaN   Marvel  \n",
       "1      NaN       NaN   Marvel  \n",
       "2  105,557       NaN   Marvel  \n",
       "3  174,710       NaN   Marvel  \n",
       "4      NaN       NaN   Marvel  "
      ]
     },
     "execution_count": 69,
     "metadata": {},
     "output_type": "execute_result"
    }
   ],
   "source": [
    "df.head()"
   ]
  },
  {
   "cell_type": "code",
   "execution_count": 73,
   "metadata": {},
   "outputs": [
    {
     "data": {
      "text/plain": [
       "204"
      ]
     },
     "execution_count": 73,
     "metadata": {},
     "output_type": "execute_result"
    }
   ],
   "source": [
    "df['IMDB_Score'].isnull().sum()"
   ]
  },
  {
   "cell_type": "code",
   "execution_count": 75,
   "metadata": {},
   "outputs": [],
   "source": [
    "media_manual = df['IMDB_Score'].sum()/(df.shape[0] -df['IMDB_Score'].isnull().sum())"
   ]
  },
  {
   "cell_type": "code",
   "execution_count": 78,
   "metadata": {},
   "outputs": [],
   "source": [
    "media = df['IMDB_Score'].mean()"
   ]
  },
  {
   "cell_type": "code",
   "execution_count": 79,
   "metadata": {},
   "outputs": [
    {
     "data": {
      "text/plain": [
       "True"
      ]
     },
     "execution_count": 79,
     "metadata": {},
     "output_type": "execute_result"
    }
   ],
   "source": [
    "media_manual == media"
   ]
  },
  {
   "cell_type": "code",
   "execution_count": 82,
   "metadata": {},
   "outputs": [
    {
     "data": {
      "text/plain": [
       "False"
      ]
     },
     "execution_count": 82,
     "metadata": {},
     "output_type": "execute_result"
    }
   ],
   "source": [
    "igual = (2 == 3)\n",
    "igual"
   ]
  },
  {
   "cell_type": "code",
   "execution_count": 83,
   "metadata": {},
   "outputs": [
    {
     "data": {
      "text/plain": [
       "True"
      ]
     },
     "execution_count": 83,
     "metadata": {},
     "output_type": "execute_result"
    }
   ],
   "source": [
    "2 != 3"
   ]
  },
  {
   "cell_type": "code",
   "execution_count": 89,
   "metadata": {},
   "outputs": [
    {
     "data": {
      "text/plain": [
       "False"
      ]
     },
     "execution_count": 89,
     "metadata": {},
     "output_type": "execute_result"
    }
   ],
   "source": [
    "5 <= 3"
   ]
  },
  {
   "cell_type": "code",
   "execution_count": 90,
   "metadata": {},
   "outputs": [
    {
     "name": "stdout",
     "output_type": "stream",
     "text": [
      "True True False\n"
     ]
    }
   ],
   "source": [
    "e = (2 < 3) and (3 < 4)\n",
    "ou = (2 < 3) or (3 > 4)\n",
    "nao = not (2 < 3)\n",
    "\n",
    "print(e, ou, nao)"
   ]
  },
  {
   "cell_type": "code",
   "execution_count": 92,
   "metadata": {},
   "outputs": [
    {
     "data": {
      "text/plain": [
       "array(['Marvel', 'DC'], dtype=object)"
      ]
     },
     "execution_count": 92,
     "metadata": {},
     "output_type": "execute_result"
    }
   ],
   "source": [
    "df['Category'].unique()"
   ]
  },
  {
   "cell_type": "code",
   "execution_count": 93,
   "metadata": {},
   "outputs": [
    {
     "data": {
      "text/html": [
       "<div>\n",
       "<style scoped>\n",
       "    .dataframe tbody tr th:only-of-type {\n",
       "        vertical-align: middle;\n",
       "    }\n",
       "\n",
       "    .dataframe tbody tr th {\n",
       "        vertical-align: top;\n",
       "    }\n",
       "\n",
       "    .dataframe thead th {\n",
       "        text-align: right;\n",
       "    }\n",
       "</style>\n",
       "<table border=\"1\" class=\"dataframe\">\n",
       "  <thead>\n",
       "    <tr style=\"text-align: right;\">\n",
       "      <th></th>\n",
       "      <th>Unnamed: 0</th>\n",
       "      <th>Movie</th>\n",
       "      <th>Year</th>\n",
       "      <th>Genre</th>\n",
       "      <th>RunTime</th>\n",
       "      <th>Rating</th>\n",
       "      <th>Director</th>\n",
       "      <th>Actor</th>\n",
       "      <th>Description</th>\n",
       "      <th>IMDB_Score</th>\n",
       "      <th>Metascore</th>\n",
       "      <th>Votes</th>\n",
       "      <th>USA_Gross</th>\n",
       "      <th>Category</th>\n",
       "    </tr>\n",
       "  </thead>\n",
       "  <tbody>\n",
       "    <tr>\n",
       "      <th>389</th>\n",
       "      <td>389</td>\n",
       "      <td>Wonder Woman 1984</td>\n",
       "      <td>(2020)</td>\n",
       "      <td>Action,Adventure,Fantasy</td>\n",
       "      <td>151 min</td>\n",
       "      <td>PG-13</td>\n",
       "      <td>PattyJenkins</td>\n",
       "      <td>GalGadot,ChrisPine,KristenWiig,PedroPascal</td>\n",
       "      <td>Diana must contend with a work colleague and b...</td>\n",
       "      <td>5.4</td>\n",
       "      <td>60.0</td>\n",
       "      <td>207,191</td>\n",
       "      <td>$46.37M</td>\n",
       "      <td>DC</td>\n",
       "    </tr>\n",
       "    <tr>\n",
       "      <th>390</th>\n",
       "      <td>390</td>\n",
       "      <td>The Suicide Squad</td>\n",
       "      <td>(2021)</td>\n",
       "      <td>Action,Adventure,Comedy</td>\n",
       "      <td>NaN</td>\n",
       "      <td>R</td>\n",
       "      <td>JamesGunn</td>\n",
       "      <td>MargotRobbie,IdrisElba,JohnCena,TaikaWaititi</td>\n",
       "      <td>Supervillains Harley Quinn, Bloodsport, Peacem...</td>\n",
       "      <td>NaN</td>\n",
       "      <td>NaN</td>\n",
       "      <td>NaN</td>\n",
       "      <td>NaN</td>\n",
       "      <td>DC</td>\n",
       "    </tr>\n",
       "    <tr>\n",
       "      <th>391</th>\n",
       "      <td>391</td>\n",
       "      <td>The Batman</td>\n",
       "      <td>(2022)</td>\n",
       "      <td>Action,Crime,Drama</td>\n",
       "      <td>NaN</td>\n",
       "      <td>NaN</td>\n",
       "      <td>MattReeves</td>\n",
       "      <td>BarryKeoghan,RobertPattinson,ColinFarrell,Andy...</td>\n",
       "      <td>The plot is unknown.</td>\n",
       "      <td>NaN</td>\n",
       "      <td>NaN</td>\n",
       "      <td>NaN</td>\n",
       "      <td>NaN</td>\n",
       "      <td>DC</td>\n",
       "    </tr>\n",
       "    <tr>\n",
       "      <th>392</th>\n",
       "      <td>392</td>\n",
       "      <td>Joker</td>\n",
       "      <td>(2019)</td>\n",
       "      <td>Crime,Drama,Thriller</td>\n",
       "      <td>122 min</td>\n",
       "      <td>R</td>\n",
       "      <td>ToddPhillips</td>\n",
       "      <td>JoaquinPhoenix,RobertDeNiro,ZazieBeetz,Frances...</td>\n",
       "      <td>In Gotham City, mentally troubled comedian Art...</td>\n",
       "      <td>8.4</td>\n",
       "      <td>59.0</td>\n",
       "      <td>1,004,600</td>\n",
       "      <td>$335.45M</td>\n",
       "      <td>DC</td>\n",
       "    </tr>\n",
       "    <tr>\n",
       "      <th>393</th>\n",
       "      <td>393</td>\n",
       "      <td>Arrow</td>\n",
       "      <td>(2012–2020)</td>\n",
       "      <td>Action,Adventure,Crime</td>\n",
       "      <td>42 min</td>\n",
       "      <td>TV-14</td>\n",
       "      <td>NaN</td>\n",
       "      <td>StephenAmell,KatieCassidy,DavidRamsey,SusannaT...</td>\n",
       "      <td>Spoiled billionaire playboy Oliver Queen is mi...</td>\n",
       "      <td>7.5</td>\n",
       "      <td>NaN</td>\n",
       "      <td>411,938</td>\n",
       "      <td>NaN</td>\n",
       "      <td>DC</td>\n",
       "    </tr>\n",
       "    <tr>\n",
       "      <th>...</th>\n",
       "      <td>...</td>\n",
       "      <td>...</td>\n",
       "      <td>...</td>\n",
       "      <td>...</td>\n",
       "      <td>...</td>\n",
       "      <td>...</td>\n",
       "      <td>...</td>\n",
       "      <td>...</td>\n",
       "      <td>...</td>\n",
       "      <td>...</td>\n",
       "      <td>...</td>\n",
       "      <td>...</td>\n",
       "      <td>...</td>\n",
       "      <td>...</td>\n",
       "    </tr>\n",
       "    <tr>\n",
       "      <th>1685</th>\n",
       "      <td>1685</td>\n",
       "      <td>DC's Legends of Tomorrow</td>\n",
       "      <td>(2016– )</td>\n",
       "      <td>Action,Adventure,Drama</td>\n",
       "      <td>42 min</td>\n",
       "      <td>TV-14</td>\n",
       "      <td>GregorySmith</td>\n",
       "      <td>BrandonRouth,CaityLotz,MaisieRichardson-Seller...</td>\n",
       "      <td>Worlds lived, worlds died. Nothing will ever b...</td>\n",
       "      <td>8.5</td>\n",
       "      <td>NaN</td>\n",
       "      <td>2,050</td>\n",
       "      <td>NaN</td>\n",
       "      <td>DC</td>\n",
       "    </tr>\n",
       "    <tr>\n",
       "      <th>1686</th>\n",
       "      <td>1686</td>\n",
       "      <td>Supergirl</td>\n",
       "      <td>(2015–2021)</td>\n",
       "      <td>Action,Adventure,Drama</td>\n",
       "      <td>42 min</td>\n",
       "      <td>TV-PG</td>\n",
       "      <td>CarlSeaton</td>\n",
       "      <td>MelissaBenoist,MehcadBrooks,ChylerLeigh,KatieM...</td>\n",
       "      <td>In the wake of Lex Luthor's return, the show f...</td>\n",
       "      <td>8.3</td>\n",
       "      <td>NaN</td>\n",
       "      <td>1,259</td>\n",
       "      <td>NaN</td>\n",
       "      <td>DC</td>\n",
       "    </tr>\n",
       "    <tr>\n",
       "      <th>1687</th>\n",
       "      <td>1687</td>\n",
       "      <td>Supergirl</td>\n",
       "      <td>(2015–2021)</td>\n",
       "      <td>Action,Adventure,Drama</td>\n",
       "      <td>42 min</td>\n",
       "      <td>TV-PG</td>\n",
       "      <td>AlexisOstrander</td>\n",
       "      <td>MelissaBenoist,MehcadBrooks,ChylerLeigh,KatieM...</td>\n",
       "      <td>Kara comes face to face with Red Daughter and ...</td>\n",
       "      <td>8.1</td>\n",
       "      <td>NaN</td>\n",
       "      <td>1,053</td>\n",
       "      <td>NaN</td>\n",
       "      <td>DC</td>\n",
       "    </tr>\n",
       "    <tr>\n",
       "      <th>1688</th>\n",
       "      <td>1688</td>\n",
       "      <td>Supergirl</td>\n",
       "      <td>(2015–2021)</td>\n",
       "      <td>Action,Adventure,Drama</td>\n",
       "      <td>42 min</td>\n",
       "      <td>TV-PG</td>\n",
       "      <td>ShannonKohli</td>\n",
       "      <td>MelissaBenoist,MehcadBrooks,ChylerLeigh,KatieM...</td>\n",
       "      <td>Kara and Lena head to Kaznia to hunt down Lex....</td>\n",
       "      <td>7.4</td>\n",
       "      <td>NaN</td>\n",
       "      <td>1,036</td>\n",
       "      <td>NaN</td>\n",
       "      <td>DC</td>\n",
       "    </tr>\n",
       "    <tr>\n",
       "      <th>1689</th>\n",
       "      <td>1689</td>\n",
       "      <td>Supergirl</td>\n",
       "      <td>(2015–2021)</td>\n",
       "      <td>Action,Adventure,Drama</td>\n",
       "      <td>42 min</td>\n",
       "      <td>TV-PG</td>\n",
       "      <td>BenHernandezBray</td>\n",
       "      <td>MelissaBenoist,MehcadBrooks,ChylerLeigh,KatieM...</td>\n",
       "      <td>Supergirl must deal with the destructive after...</td>\n",
       "      <td>7.5</td>\n",
       "      <td>NaN</td>\n",
       "      <td>1,037</td>\n",
       "      <td>NaN</td>\n",
       "      <td>DC</td>\n",
       "    </tr>\n",
       "  </tbody>\n",
       "</table>\n",
       "<p>1301 rows × 14 columns</p>\n",
       "</div>"
      ],
      "text/plain": [
       "      Unnamed: 0                      Movie         Year  \\\n",
       "389          389          Wonder Woman 1984       (2020)   \n",
       "390          390          The Suicide Squad       (2021)   \n",
       "391          391                 The Batman       (2022)   \n",
       "392          392                      Joker       (2019)   \n",
       "393          393                      Arrow  (2012–2020)   \n",
       "...          ...                        ...          ...   \n",
       "1685        1685   DC's Legends of Tomorrow     (2016– )   \n",
       "1686        1686                  Supergirl  (2015–2021)   \n",
       "1687        1687                  Supergirl  (2015–2021)   \n",
       "1688        1688                  Supergirl  (2015–2021)   \n",
       "1689        1689                  Supergirl  (2015–2021)   \n",
       "\n",
       "                         Genre  RunTime Rating          Director  \\\n",
       "389   Action,Adventure,Fantasy  151 min  PG-13      PattyJenkins   \n",
       "390    Action,Adventure,Comedy      NaN      R         JamesGunn   \n",
       "391         Action,Crime,Drama      NaN    NaN        MattReeves   \n",
       "392       Crime,Drama,Thriller  122 min      R      ToddPhillips   \n",
       "393     Action,Adventure,Crime   42 min  TV-14               NaN   \n",
       "...                        ...      ...    ...               ...   \n",
       "1685    Action,Adventure,Drama   42 min  TV-14      GregorySmith   \n",
       "1686    Action,Adventure,Drama   42 min  TV-PG        CarlSeaton   \n",
       "1687    Action,Adventure,Drama   42 min  TV-PG   AlexisOstrander   \n",
       "1688    Action,Adventure,Drama   42 min  TV-PG      ShannonKohli   \n",
       "1689    Action,Adventure,Drama   42 min  TV-PG  BenHernandezBray   \n",
       "\n",
       "                                                  Actor  \\\n",
       "389          GalGadot,ChrisPine,KristenWiig,PedroPascal   \n",
       "390        MargotRobbie,IdrisElba,JohnCena,TaikaWaititi   \n",
       "391   BarryKeoghan,RobertPattinson,ColinFarrell,Andy...   \n",
       "392   JoaquinPhoenix,RobertDeNiro,ZazieBeetz,Frances...   \n",
       "393   StephenAmell,KatieCassidy,DavidRamsey,SusannaT...   \n",
       "...                                                 ...   \n",
       "1685  BrandonRouth,CaityLotz,MaisieRichardson-Seller...   \n",
       "1686  MelissaBenoist,MehcadBrooks,ChylerLeigh,KatieM...   \n",
       "1687  MelissaBenoist,MehcadBrooks,ChylerLeigh,KatieM...   \n",
       "1688  MelissaBenoist,MehcadBrooks,ChylerLeigh,KatieM...   \n",
       "1689  MelissaBenoist,MehcadBrooks,ChylerLeigh,KatieM...   \n",
       "\n",
       "                                            Description  IMDB_Score  \\\n",
       "389   Diana must contend with a work colleague and b...         5.4   \n",
       "390   Supervillains Harley Quinn, Bloodsport, Peacem...         NaN   \n",
       "391                                The plot is unknown.         NaN   \n",
       "392   In Gotham City, mentally troubled comedian Art...         8.4   \n",
       "393   Spoiled billionaire playboy Oliver Queen is mi...         7.5   \n",
       "...                                                 ...         ...   \n",
       "1685  Worlds lived, worlds died. Nothing will ever b...         8.5   \n",
       "1686  In the wake of Lex Luthor's return, the show f...         8.3   \n",
       "1687  Kara comes face to face with Red Daughter and ...         8.1   \n",
       "1688  Kara and Lena head to Kaznia to hunt down Lex....         7.4   \n",
       "1689  Supergirl must deal with the destructive after...         7.5   \n",
       "\n",
       "      Metascore      Votes USA_Gross Category  \n",
       "389        60.0    207,191   $46.37M       DC  \n",
       "390         NaN        NaN       NaN       DC  \n",
       "391         NaN        NaN       NaN       DC  \n",
       "392        59.0  1,004,600  $335.45M       DC  \n",
       "393         NaN    411,938       NaN       DC  \n",
       "...         ...        ...       ...      ...  \n",
       "1685        NaN      2,050       NaN       DC  \n",
       "1686        NaN      1,259       NaN       DC  \n",
       "1687        NaN      1,053       NaN       DC  \n",
       "1688        NaN      1,036       NaN       DC  \n",
       "1689        NaN      1,037       NaN       DC  \n",
       "\n",
       "[1301 rows x 14 columns]"
      ]
     },
     "execution_count": 93,
     "metadata": {},
     "output_type": "execute_result"
    }
   ],
   "source": [
    "dc = df[df['Category'] == 'DC']\n",
    "dc"
   ]
  },
  {
   "cell_type": "code",
   "execution_count": 94,
   "metadata": {},
   "outputs": [
    {
     "data": {
      "text/plain": [
       "array(['DC'], dtype=object)"
      ]
     },
     "execution_count": 94,
     "metadata": {},
     "output_type": "execute_result"
    }
   ],
   "source": [
    "dc['Category'].unique()"
   ]
  },
  {
   "cell_type": "code",
   "execution_count": 95,
   "metadata": {},
   "outputs": [
    {
     "data": {
      "text/plain": [
       "7.894152046783625"
      ]
     },
     "execution_count": 95,
     "metadata": {},
     "output_type": "execute_result"
    }
   ],
   "source": [
    "dc_media = dc['IMDB_Score'].sum() / (dc.shape[0] - dc['IMDB_Score'].isnull().sum())\n",
    "dc_media"
   ]
  },
  {
   "cell_type": "code",
   "execution_count": 98,
   "metadata": {},
   "outputs": [],
   "source": [
    "marvel = df[df['Category'] == 'Marvel']\n",
    "marvel_media = marvel['IMDB_Score'].sum() / (marvel.shape[0] - marvel['IMDB_Score'].isnull().sum())\n"
   ]
  },
  {
   "cell_type": "code",
   "execution_count": 99,
   "metadata": {},
   "outputs": [
    {
     "name": "stdout",
     "output_type": "stream",
     "text": [
      "7.520415224913495 7.894152046783625\n"
     ]
    }
   ],
   "source": [
    "print(marvel_media,dc_media)"
   ]
  },
  {
   "cell_type": "code",
   "execution_count": 110,
   "metadata": {},
   "outputs": [
    {
     "name": "stdout",
     "output_type": "stream",
     "text": [
      "A média da DC,{dc_media}, é matematicamente maior\n"
     ]
    }
   ],
   "source": [
    "if dc_media > marvel_media:\n",
    "    print(f'A média da DC,{dc_media}, é matematicamente maior')"
   ]
  },
  {
   "cell_type": "code",
   "execution_count": 104,
   "metadata": {},
   "outputs": [
    {
     "name": "stdout",
     "output_type": "stream",
     "text": [
      "A média da DC é matematicamente maior\n"
     ]
    }
   ],
   "source": [
    "if dc_media < marvel_media:\n",
    "    print(\"A média da Marvel é matematicamente maior\")\n",
    "else:\n",
    "    print(\"A média da DC é matematicamente maior\")"
   ]
  },
  {
   "cell_type": "code",
   "execution_count": 106,
   "metadata": {},
   "outputs": [
    {
     "name": "stdout",
     "output_type": "stream",
     "text": [
      "z é menor ou igual a 5\n"
     ]
    }
   ],
   "source": [
    "z = 2\n",
    "if z > 10:\n",
    "    print(\"z é maior que 10\")\n",
    "elif z > 5:\n",
    "    print(\"z é maior que 5 e menor ou igual a 10\")\n",
    "else:\n",
    "    print(\"z é menor ou igual a 5\")"
   ]
  },
  {
   "cell_type": "code",
   "execution_count": 107,
   "metadata": {},
   "outputs": [
    {
     "name": "stdout",
     "output_type": "stream",
     "text": [
      "Avengers\n",
      "Batman\n",
      "Superman\n"
     ]
    }
   ],
   "source": [
    "# for\n",
    "filmes = ['Avengers', 'Batman', 'Superman']\n",
    "for filme in filmes:\n",
    "    print(filme)"
   ]
  },
  {
   "cell_type": "code",
   "execution_count": 108,
   "metadata": {},
   "outputs": [
    {
     "name": "stdout",
     "output_type": "stream",
     "text": [
      "0\n",
      "1\n",
      "2\n",
      "3\n",
      "4\n"
     ]
    }
   ],
   "source": [
    "for i in range(5):\n",
    "    print(i)"
   ]
  },
  {
   "cell_type": "code",
   "execution_count": 111,
   "metadata": {},
   "outputs": [
    {
     "name": "stdout",
     "output_type": "stream",
     "text": [
      "0\n",
      "1\n",
      "2\n",
      "3\n",
      "4\n"
     ]
    }
   ],
   "source": [
    "contador = 0 #1\n",
    "while contador < 5:\n",
    "    print(contador)\n",
    "    contador += 1"
   ]
  },
  {
   "cell_type": "code",
   "execution_count": 112,
   "metadata": {},
   "outputs": [
    {
     "name": "stdout",
     "output_type": "stream",
     "text": [
      "Olá, mundo!\n"
     ]
    }
   ],
   "source": [
    "def saudacao():\n",
    "    print(\"Olá, mundo!\")\n",
    "\n",
    "saudacao()"
   ]
  },
  {
   "cell_type": "code",
   "execution_count": 113,
   "metadata": {},
   "outputs": [
    {
     "name": "stdout",
     "output_type": "stream",
     "text": [
      "Olá, mundo!\n"
     ]
    }
   ],
   "source": [
    "saudacao()"
   ]
  },
  {
   "cell_type": "code",
   "execution_count": 114,
   "metadata": {},
   "outputs": [],
   "source": [
    "def saudacao_nome(nome):\n",
    "    print(f\"Olá, {nome}!\")\n",
    "\n"
   ]
  },
  {
   "cell_type": "code",
   "execution_count": 116,
   "metadata": {},
   "outputs": [
    {
     "name": "stdout",
     "output_type": "stream",
     "text": [
      "Olá, Bruno!\n"
     ]
    }
   ],
   "source": [
    "saudacao_nome(\"Bruno\")"
   ]
  },
  {
   "cell_type": "code",
   "execution_count": 118,
   "metadata": {},
   "outputs": [],
   "source": [
    "def soma(a,b):\n",
    "    return a + b"
   ]
  },
  {
   "cell_type": "code",
   "execution_count": 119,
   "metadata": {},
   "outputs": [
    {
     "data": {
      "text/plain": [
       "9"
      ]
     },
     "execution_count": 119,
     "metadata": {},
     "output_type": "execute_result"
    }
   ],
   "source": [
    "soma(4,5)"
   ]
  },
  {
   "cell_type": "code",
   "execution_count": 135,
   "metadata": {},
   "outputs": [],
   "source": [
    "def desempenho_do_filme(filme):\n",
    "    tabela = df[(df['Movie'] == filme)]\n",
    "    nota = tabela['IMDB_Score'].mean()\n",
    "\n",
    "    if nota < 5:\n",
    "        return \"Ruim\"\n",
    "    elif 5<= nota < 7:\n",
    "        return \"Mediano\"\n",
    "    elif nota >=7:\n",
    "        return \"Bom\"\n",
    "    else:\n",
    "        return \"Erro\""
   ]
  },
  {
   "cell_type": "code",
   "execution_count": 137,
   "metadata": {},
   "outputs": [
    {
     "data": {
      "text/plain": [
       "'Erro'"
      ]
     },
     "execution_count": 137,
     "metadata": {},
     "output_type": "execute_result"
    }
   ],
   "source": [
    "desempenho_do_filme('The Falcon and the Winter Soldier\t')"
   ]
  },
  {
   "cell_type": "code",
   "execution_count": 128,
   "metadata": {},
   "outputs": [
    {
     "data": {
      "text/html": [
       "<div>\n",
       "<style scoped>\n",
       "    .dataframe tbody tr th:only-of-type {\n",
       "        vertical-align: middle;\n",
       "    }\n",
       "\n",
       "    .dataframe tbody tr th {\n",
       "        vertical-align: top;\n",
       "    }\n",
       "\n",
       "    .dataframe thead th {\n",
       "        text-align: right;\n",
       "    }\n",
       "</style>\n",
       "<table border=\"1\" class=\"dataframe\">\n",
       "  <thead>\n",
       "    <tr style=\"text-align: right;\">\n",
       "      <th></th>\n",
       "      <th>Unnamed: 0</th>\n",
       "      <th>Movie</th>\n",
       "      <th>Year</th>\n",
       "      <th>Genre</th>\n",
       "      <th>RunTime</th>\n",
       "      <th>Rating</th>\n",
       "      <th>Director</th>\n",
       "      <th>Actor</th>\n",
       "      <th>Description</th>\n",
       "      <th>IMDB_Score</th>\n",
       "      <th>Metascore</th>\n",
       "      <th>Votes</th>\n",
       "      <th>USA_Gross</th>\n",
       "      <th>Category</th>\n",
       "    </tr>\n",
       "  </thead>\n",
       "  <tbody>\n",
       "    <tr>\n",
       "      <th>0</th>\n",
       "      <td>0</td>\n",
       "      <td>Eternals</td>\n",
       "      <td>(2021)</td>\n",
       "      <td>Action,Adventure,Drama</td>\n",
       "      <td>NaN</td>\n",
       "      <td>NaN</td>\n",
       "      <td>ChloéZhao</td>\n",
       "      <td>AngelinaJolie,GemmaChan,RichardMadden,BarryKeo...</td>\n",
       "      <td>The saga of the Eternals, a race of immortal b...</td>\n",
       "      <td>NaN</td>\n",
       "      <td>NaN</td>\n",
       "      <td>NaN</td>\n",
       "      <td>NaN</td>\n",
       "      <td>Marvel</td>\n",
       "    </tr>\n",
       "    <tr>\n",
       "      <th>1</th>\n",
       "      <td>1</td>\n",
       "      <td>Loki</td>\n",
       "      <td>(2021– )</td>\n",
       "      <td>Action,Adventure,Fantasy</td>\n",
       "      <td>NaN</td>\n",
       "      <td>NaN</td>\n",
       "      <td>NaN</td>\n",
       "      <td>TomHiddleston,OwenWilson,SophiaDiMartino,Richa...</td>\n",
       "      <td>A new Marvel chapter with Loki at its center.</td>\n",
       "      <td>NaN</td>\n",
       "      <td>NaN</td>\n",
       "      <td>NaN</td>\n",
       "      <td>NaN</td>\n",
       "      <td>Marvel</td>\n",
       "    </tr>\n",
       "    <tr>\n",
       "      <th>2</th>\n",
       "      <td>2</td>\n",
       "      <td>The Falcon and the Winter Soldier</td>\n",
       "      <td>(2021)</td>\n",
       "      <td>Action,Adventure,Drama</td>\n",
       "      <td>50 min</td>\n",
       "      <td>TV-14</td>\n",
       "      <td>NaN</td>\n",
       "      <td>AnthonyMackie,SebastianStan,WyattRussell,ErinK...</td>\n",
       "      <td>Following the events of 'Avengers: Endgame,' S...</td>\n",
       "      <td>7.5</td>\n",
       "      <td>NaN</td>\n",
       "      <td>105,557</td>\n",
       "      <td>NaN</td>\n",
       "      <td>Marvel</td>\n",
       "    </tr>\n",
       "    <tr>\n",
       "      <th>3</th>\n",
       "      <td>3</td>\n",
       "      <td>WandaVision</td>\n",
       "      <td>(2021)</td>\n",
       "      <td>Action,Comedy,Drama</td>\n",
       "      <td>350 min</td>\n",
       "      <td>TV-PG</td>\n",
       "      <td>NaN</td>\n",
       "      <td>ElizabethOlsen,PaulBettany,KathrynHahn,Teyonah...</td>\n",
       "      <td>Blends the style of classic sitcoms with the M...</td>\n",
       "      <td>8.1</td>\n",
       "      <td>NaN</td>\n",
       "      <td>174,710</td>\n",
       "      <td>NaN</td>\n",
       "      <td>Marvel</td>\n",
       "    </tr>\n",
       "    <tr>\n",
       "      <th>4</th>\n",
       "      <td>4</td>\n",
       "      <td>Spider-Man: No Way Home</td>\n",
       "      <td>(2021)</td>\n",
       "      <td>Action,Adventure,Sci-Fi</td>\n",
       "      <td>NaN</td>\n",
       "      <td>NaN</td>\n",
       "      <td>JonWatts</td>\n",
       "      <td>AngourieRice,TomHolland,Zendaya,MarisaTomei</td>\n",
       "      <td>A continuation of Spider-Man: Far From Home.</td>\n",
       "      <td>NaN</td>\n",
       "      <td>NaN</td>\n",
       "      <td>NaN</td>\n",
       "      <td>NaN</td>\n",
       "      <td>Marvel</td>\n",
       "    </tr>\n",
       "  </tbody>\n",
       "</table>\n",
       "</div>"
      ],
      "text/plain": [
       "   Unnamed: 0                              Movie      Year  \\\n",
       "0           0                           Eternals    (2021)   \n",
       "1           1                               Loki  (2021– )   \n",
       "2           2  The Falcon and the Winter Soldier    (2021)   \n",
       "3           3                        WandaVision    (2021)   \n",
       "4           4            Spider-Man: No Way Home    (2021)   \n",
       "\n",
       "                      Genre  RunTime Rating   Director  \\\n",
       "0    Action,Adventure,Drama      NaN    NaN  ChloéZhao   \n",
       "1  Action,Adventure,Fantasy      NaN    NaN        NaN   \n",
       "2    Action,Adventure,Drama   50 min  TV-14        NaN   \n",
       "3       Action,Comedy,Drama  350 min  TV-PG        NaN   \n",
       "4   Action,Adventure,Sci-Fi      NaN    NaN   JonWatts   \n",
       "\n",
       "                                               Actor  \\\n",
       "0  AngelinaJolie,GemmaChan,RichardMadden,BarryKeo...   \n",
       "1  TomHiddleston,OwenWilson,SophiaDiMartino,Richa...   \n",
       "2  AnthonyMackie,SebastianStan,WyattRussell,ErinK...   \n",
       "3  ElizabethOlsen,PaulBettany,KathrynHahn,Teyonah...   \n",
       "4        AngourieRice,TomHolland,Zendaya,MarisaTomei   \n",
       "\n",
       "                                         Description  IMDB_Score  Metascore  \\\n",
       "0  The saga of the Eternals, a race of immortal b...         NaN        NaN   \n",
       "1      A new Marvel chapter with Loki at its center.         NaN        NaN   \n",
       "2  Following the events of 'Avengers: Endgame,' S...         7.5        NaN   \n",
       "3  Blends the style of classic sitcoms with the M...         8.1        NaN   \n",
       "4       A continuation of Spider-Man: Far From Home.         NaN        NaN   \n",
       "\n",
       "     Votes USA_Gross Category  \n",
       "0      NaN       NaN   Marvel  \n",
       "1      NaN       NaN   Marvel  \n",
       "2  105,557       NaN   Marvel  \n",
       "3  174,710       NaN   Marvel  \n",
       "4      NaN       NaN   Marvel  "
      ]
     },
     "execution_count": 128,
     "metadata": {},
     "output_type": "execute_result"
    }
   ],
   "source": [
    "df.head()"
   ]
  },
  {
   "cell_type": "code",
   "execution_count": 130,
   "metadata": {},
   "outputs": [],
   "source": [
    "desempenho_do_filme('The Falcon and the Winter Soldier')"
   ]
  },
  {
   "cell_type": "code",
   "execution_count": 138,
   "metadata": {},
   "outputs": [],
   "source": [
    "\n",
    "#Escreva um programa que peça a idade do usuário e exiba uma mensagem dizendo se ele é menor de idade, \n",
    "#maior de idade ou idoso (considerando 60 anos como idade para ser idoso).\n",
    "\n",
    "def idade(i):\n",
    "    if i < 18:\n",
    "        return \"Menor de idade\"\n",
    "    elif i >= 18 and i < 60:\n",
    "        return \"Adulto\"\n",
    "    elif i >= 60:\n",
    "        return'Idoso'\n",
    "    else: \n",
    "        return \"erro\""
   ]
  },
  {
   "cell_type": "code",
   "execution_count": 142,
   "metadata": {},
   "outputs": [
    {
     "data": {
      "text/plain": [
       "'Menor de idade'"
      ]
     },
     "execution_count": 142,
     "metadata": {},
     "output_type": "execute_result"
    }
   ],
   "source": [
    "idade(17)"
   ]
  },
  {
   "cell_type": "code",
   "execution_count": null,
   "metadata": {},
   "outputs": [],
   "source": [
    "pontos = 0\n",
    "\n",
    "# Tarefa 1: Importar bibliotecas (10 pontos)\n",
    "try:\n",
    "    #importe sua biblioteca\n",
    "    pontos += 10\n",
    "except:\n",
    "    print(\"Erro ao importar bibliotecas\")\n",
    "\n",
    "# Tarefa 2: Carregar dados (10 pontos)\n",
    "try:\n",
    "    #carregue seus dados\n",
    "    pontos += 10\n",
    "except:\n",
    "    print(\"Erro ao carregar dados\")\n",
    "\n",
    "# Tarefa 3: Função de categoria do filme (10 pontos), crie uma função que nota menor que 5 = ruim; entre 5 e 7, mediana; maior que 7, boa;\n",
    "try:\n",
    "\n",
    "    #nota_filme = 7.5  # Testando a função\n",
    "    #print(categoria_filme(nota_filme))\n",
    "    pontos += 10\n",
    "except:\n",
    "    print(\"Erro ao definir função\")\n",
    "\n",
    "# Tarefa 4: Média das notas IMDb dos filmes (10 pontos)\n",
    "try:\n",
    "    ### adicione a média\n",
    "    pontos += 10\n",
    "except:\n",
    "    print(\"Erro ao calcular média\")\n",
    "\n",
    "print(f\"Você acumulou {pontos} pontos nesta aula!\")"
   ]
  }
 ],
 "metadata": {
  "kernelspec": {
   "display_name": "Python 3",
   "language": "python",
   "name": "python3"
  },
  "language_info": {
   "codemirror_mode": {
    "name": "ipython",
    "version": 3
   },
   "file_extension": ".py",
   "mimetype": "text/x-python",
   "name": "python",
   "nbconvert_exporter": "python",
   "pygments_lexer": "ipython3",
   "version": "3.11.9"
  }
 },
 "nbformat": 4,
 "nbformat_minor": 2
}
